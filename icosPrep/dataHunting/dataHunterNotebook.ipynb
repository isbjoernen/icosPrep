{
 "cells": [
  {
   "cell_type": "code",
   "execution_count": 1,
   "metadata": {},
   "outputs": [],
   "source": [
    "#!pip install jupyter_ui_poll\n",
    "#!pip install distro\n",
    "#!pip install loguru\n",
    "#!pip install screeninfo\n",
    "#!pip install git+https://github.com/ecederstrand/exchangelib"
   ]
  },
  {
   "cell_type": "code",
   "execution_count": 1,
   "metadata": {
    "tags": []
   },
   "outputs": [
    {
     "name": "stdout",
     "output_type": "stream",
     "text": [
      "/project/cp_notebooks/icosPrep/icosPrep/dataHunting\n"
     ]
    }
   ],
   "source": [
    "from os import getcwd,mkdir,path,listdir\n",
    "print(getcwd())\n",
    "from importlib import reload\n",
    "import ipywidgets as wdg\n",
    "\n",
    "# !You may have to adjust the absoltue paths to your situation\n",
    "# !Only needed if something went wrong during the icosPrep installation\n",
    "# ! to ensure that the dataHunting jupyter notebook works.\n",
    "# ! The next 2 blocks are only needed if you really want the .git directory\n",
    "# ! Jupyter does not allow you to create directories starting with a dot \n",
    "#   interactively nor does it show their contents\n",
    "#  so I create a directory git without dot, copy the contents from my local .git directory \n",
    "#  up to the server and then use the following commands to move the contents into .git\n",
    "#mkdir(path.join('/project/cp_notebooks/icosPrep', '.git'))\n",
    "#mkdir('/project/cp_notebooks/icosPrep/.git/hooks')\n",
    "#mkdir('/project/cp_notebooks/icosPrep/.git/logs')\n",
    "#mkdir('/project/cp_notebooks/icosPrep/.git/objects')\n",
    "#mkdir('/project/cp_notebooks/icosPrep/.git/refs')\n",
    "#mkdir('/project/cp_notebooks/icosPrep/.git/info')\n",
    "#mkdir('/project/cp_notebooks/icosPrep/.git/refs/remotes')\n",
    "#mkdir('/project/cp_notebooks/icosPrep/.git/refs/tags')\n",
    "#mkdir('/project/cp_notebooks/icosPrep/.git/logs/refs')\n",
    "#mkdir('/project/cp_notebooks/icosPrep/.git/logs/refs/heads')\n",
    "#mkdir('/project/cp_notebooks/icosPrep/.git/logs/refs/remotes')\n",
    "#mkdir('/project/cp_notebooks/icosPrep/.git/logs/refs/remotes/origin')\n",
    "\n",
    "#import shutil\n",
    "#shutil.copy2('/project/cp_notebooks/icosPrep/git/HEAD', '/project/cp_notebooks/icosPrep/.git')\n",
    "#shutil.copy2('/project/cp_notebooks/icosPrep/git/config', '/project/cp_notebooks/icosPrep/.git')\n",
    "#shutil.copy2('/project/cp_notebooks/icosPrep/git/description', '/project/cp_notebooks/icosPrep/.git')\n",
    "#shutil.copy2('/project/cp_notebooks/icosPrep/git/FETCH_HEAD', '/project/cp_notebooks/icosPrep/.git')\n",
    "#shutil.copy2('/project/cp_notebooks/icosPrep/git/index', '/project/cp_notebooks/icosPrep/.git')\n",
    "#shutil.copy2('/project/cp_notebooks/icosPrep/git/ORIG_HEAD', '/project/cp_notebooks/icosPrep/.git')\n",
    "#shutil.copy2('/project/cp_notebooks/icosPrep/git/packed-refs', '/project/cp_notebooks/icosPrep/.git')\n",
    "#shutil.copy2('/project/cp_notebooks/icosPrep/git/COMMIT_EDITMSG', '/project/cp_notebooks/icosPrep/.git')\n",
    "#shutil.copy2('/project/cp_notebooks/icosPrep/git/hooks/commit-msg.sample', '/project/cp_notebooks/icosPrep/.git/hooks')\n",
    "#shutil.copy2('/project/cp_notebooks/icosPrep/git/info/exclude', '/project/cp_notebooks/icosPrep/.git/info')\n",
    "#shutil.copy2('/project/cp_notebooks/icosPrep/git/logs/HEAD', '/project/cp_notebooks/icosPrep/.git/logs')\n",
    "#shutil.copy2('/project/cp_notebooks/icosPrep/git/logs/refs/heads/main', '/project/cp_notebooks/icosPrep/.git/logs/refs/heads')\n",
    "#shutil.copy2('/project/cp_notebooks/icosPrep/git/logs/HEAD', '/project/cp_notebooks/icosPrep/.git/logs')\n",
    "#shutil.copy2('/project/cp_notebooks/icosPrep/git/logs/refs/remotes/origin/HEAD', '/project/cp_notebooks/icosPrep/.git/logs/refs/remotes/origin')\n",
    "#shutil.copy2('/project/cp_notebooks/icosPrep/git/logs/refs/remotes/origin/main', '/project/cp_notebooks/icosPrep/.git/logs/refs/remotes/origin')\n",
    "\n",
    "# ! If something went wrong with the normal icosPrep installation, the following\n",
    "# ! commands should get the jupyter relevant part of the dataHunting working again:\n",
    "#!pip install setuptools\n",
    "#!pip install -r ../../min-py-env-requirements-lumiaGUI.txt\n",
    "#!pip uninstall --yes pangaeapy \n",
    "#!pip install pandas==2.0.2\n",
    "#!pip install Shapely==2.0.4\n",
    "#!pip install matplotlib==3.7.2\n",
    "#!pip install numpy==1.25.2\n",
    "#!pip install Cartopy==0.21.1\n",
    "#!pip install  -e ../../\n"
   ]
  },
  {
   "cell_type": "code",
   "execution_count": 2,
   "metadata": {},
   "outputs": [
    {
     "name": "stderr",
     "output_type": "stream",
     "text": [
      "/opt/conda/lib/python3.10/site-packages/icoscp/collection/collection.py:29: UserWarning: \n",
      "It is highly recommended to replace the following import:\n",
      "\"from icoscp.cpb.dobj import Dobj\"\n",
      "  with\n",
      "\"from icoscp.dobj import Dobj\"\n",
      "Find out more here: https://icos-carbon-portal.github.io/pylib/icoscp/install/#upgrade-guide\n",
      "  from icoscp.cpb.dobj import Dobj\n"
     ]
    },
    {
     "data": {
      "application/vnd.jupyter.widget-view+json": {
       "model_id": "b456fc362e354c0f91274cce91e70982",
       "version_major": 2,
       "version_minor": 0
      },
      "text/plain": [
       "FileUpload(value=(), accept='*.yml', description='Select yml file')"
      ]
     },
     "metadata": {},
     "output_type": "display_data"
    },
    {
     "data": {
      "application/vnd.jupyter.widget-view+json": {
       "model_id": "381205f911014e08bbf031ac56140052",
       "version_major": 2,
       "version_minor": 0
      },
      "text/plain": [
       "Button(description='Continue after file selection', layout=Layout(width='240px'), style=ButtonStyle(), tooltip…"
      ]
     },
     "metadata": {},
     "output_type": "display_data"
    },
    {
     "name": "stdout",
     "output_type": "stream",
     "text": [
      "\u001b[32m2024-07-30 10:23:57.888 UTC\u001b[0m | \u001b[32m0:01:45.321412\u001b[0m | \u001b[1mINFO    \u001b[0m | \u001b[36m/project/cp_notebooks/icosPrep/icosPrep/utils/housekeeping.py\u001b[0m:\u001b[36m619)\u001b[0m | A log file is written to ./output/icosPrep-2024-07-30T10_23/icosPrep-2024-07-30T10_23-run.log.\n",
      "\u001b[32m2024-07-30 10:23:57.894 UTC\u001b[0m | \u001b[32m0:01:45.328036\u001b[0m | \u001b[1mINFO    \u001b[0m | \u001b[36m/project/cp_notebooks/icosPrep/icosPrep/utils/housekeeping.py\u001b[0m:\u001b[36m791)\u001b[0m | Namespace(start=None, end=None, ymf=None, rootDir=None, noTkinter=False, verbosity='INFO')\n",
      "Local git info suggests that the branch name is : main\n",
      "\u001b[32m2024-07-30 10:23:57.953 UTC\u001b[0m | \u001b[32m0:01:45.386177\u001b[0m | \u001b[1mINFO    \u001b[0m | \u001b[36m/project/cp_notebooks/icosPrep/icosPrep/utils/housekeeping.py\u001b[0m:\u001b[36m535)\u001b[0m | \n",
      "Warning: Cannot verify whether the present version of lumiaGUI with git commit hash \n",
      "LATESTGITCOMMIT_icosPrep (df1bdf9177df71c5acbd8134e18699778273f418) taken from said variable at the top of this \n",
      "lumia.GUI.housekeeping.py file is actually the latest version or not due to a missing local .git info tree.\n",
      "\u001b[32m2024-07-30 10:23:57.954 UTC\u001b[0m | \u001b[32m0:01:45.387284\u001b[0m | \u001b[31m\u001b[1mERROR   \u001b[0m | \u001b[36m/project/cp_notebooks/icosPrep/icosPrep/utils/housekeeping.py\u001b[0m:\u001b[36m314)\u001b[0m | No background concentration files matching pattern ./backgroundCo2Concentrations/background_2018.nc were found.\n",
      "\u001b[32m2024-07-30 10:24:00.069 UTC\u001b[0m | \u001b[32m0:01:47.502855\u001b[0m | \u001b[1mINFO    \u001b[0m | \u001b[36m/project/cp_notebooks/icosPrep/icosPrep/utils/housekeeping.py\u001b[0m:\u001b[36m954)\u001b[0m | Task set to use up to 1 cpus out of a maximum number of available cpus of os.cpu_count()=128\n",
      "\u001b[32m2024-07-30 10:24:00.071 UTC\u001b[0m | \u001b[32m0:01:47.505035\u001b[0m | \u001b[1mINFO    \u001b[0m | \u001b[36m/project/cp_notebooks/icosPrep/icosPrep/utils/housekeeping.py\u001b[0m:\u001b[36m977)\u001b[0m | The main script ./dataHunter.py is run by user arndt-meier. The Lumia flavour is icosPrep\n",
      "Python environment version is 3.10.6\n",
      "sCmd=pip list --format=freeze > ./output/icosPrep-2024-07-30T10_23/icosPrep-2024-07-30T10_23-python-environment-pipLst.txt\n",
      "\u001b[32m2024-07-30 10:24:01.189 UTC\u001b[0m | \u001b[32m0:01:48.622906\u001b[0m | \u001b[1mINFO    \u001b[0m | \u001b[36m/project/cp_notebooks/icosPrep/icosPrep/utils/housekeeping.py\u001b[0m:\u001b[36m1106)\u001b[0m | updated configuratrion yaml file written to ./output/icosPrep-2024-07-30T10_23/icosPrep-2024-07-30T10_23-config.yml\n",
      "\u001b[32m2024-07-30 10:24:01.192 UTC\u001b[0m | \u001b[32m0:01:48.625798\u001b[0m | \u001b[33m\u001b[1mWARNING \u001b[0m | \u001b[36m/project/cp_notebooks/icosPrep/icosPrep/dataHunting/dataHunter.py\u001b[0m:\u001b[36m130)\u001b[0m | DISPLAY not listed in os.environ. On simple systems DISPLAY is usually :0.0  ...so I will give that one a shot. Proceeding with fingers crossed...\n"
     ]
    },
    {
     "data": {
      "application/vnd.jupyter.widget-view+json": {
       "model_id": "598a05e969e7487290e95760870f0b47",
       "version_major": 2,
       "version_minor": 0
      },
      "text/plain": [
       "Output()"
      ]
     },
     "metadata": {},
     "output_type": "display_data"
    },
    {
     "data": {
      "application/vnd.jupyter.widget-view+json": {
       "model_id": "0fd2d18f8b6341958a6e6e4aec503877",
       "version_major": 2,
       "version_minor": 0
      },
      "text/plain": [
       "GridspecLayout(children=(Text(value='LUMIA  --  Configure your next LUMIA run', layout=Layout(grid_area='widge…"
      ]
     },
     "metadata": {},
     "output_type": "display_data"
    },
    {
     "data": {
      "application/vnd.jupyter.widget-view+json": {
       "model_id": "32d018fc34844c0aa07fe7b79f903325",
       "version_major": 2,
       "version_minor": 0
      },
      "text/plain": [
       "GridspecLayout(children=(Text(value='Do you want to use the cached discovered observations from \\n0 days 23h23…"
      ]
     },
     "metadata": {},
     "output_type": "display_data"
    },
    {
     "name": "stdout",
     "output_type": "stream",
     "text": [
      "\u001b[32m2024-07-30 10:24:43.364 UTC\u001b[0m | \u001b[32m0:02:30.797733\u001b[0m | \u001b[1mINFO    \u001b[0m | \u001b[36m/project/cp_notebooks/icosPrep/icosPrep/dataHunting/dataHunter.py\u001b[0m:\u001b[36m318)\u001b[0m | Done. data hunting part-1 completed successfully. Config file updated.\n",
      "\u001b[32m2024-07-30 10:24:43.691 UTC\u001b[0m | \u001b[32m0:02:31.124091\u001b[0m | \u001b[1mINFO    \u001b[0m | \u001b[36m/project/cp_notebooks/icosPrep/icosPrep/dataHunting/dataHunter.py\u001b[0m:\u001b[36m563)\u001b[0m | There are 119 valid data sets in the selected geographical region ingoring multiple sampling heights.\n"
     ]
    },
    {
     "data": {
      "application/vnd.jupyter.widget-view+json": {
       "model_id": "24a47f6f80f344a29cfd3f8b8fb888b9",
       "version_major": 2,
       "version_minor": 0
      },
      "text/plain": [
       "Output()"
      ]
     },
     "metadata": {},
     "output_type": "display_data"
    },
    {
     "data": {
      "application/vnd.jupyter.widget-view+json": {
       "model_id": "5a1222cefd2e4c33bd1b850332a5b61f",
       "version_major": 2,
       "version_minor": 0
      },
      "text/plain": [
       "GridspecLayout(children=(Text(value='LUMIA  --  Refine your selections among the data discovered', layout=Layo…"
      ]
     },
     "metadata": {},
     "output_type": "display_data"
    },
    {
     "data": {
      "application/vnd.jupyter.widget-view+json": {
       "model_id": "bb1889b626c5402b84a451419a7ecefc",
       "version_major": 2,
       "version_minor": 0
      },
      "text/plain": [
       "GridspecLayout(children=(GridCTkCheckBox(value=True, indent=False, layout=Layout(grid_area='widget001', height…"
      ]
     },
     "metadata": {},
     "output_type": "display_data"
    },
    {
     "name": "stdout",
     "output_type": "stream",
     "text": [
      "\u001b[32m2024-07-30 10:25:03.686 UTC\u001b[0m | \u001b[32m0:02:51.119981\u001b[0m | \u001b[1mINFO    \u001b[0m | \u001b[36m/project/cp_notebooks/icosPrep/icosPrep/dataHunting/dataHunter.py\u001b[0m:\u001b[36m1684)\u001b[0m | There are 119 valid data sets in the selected geographical region ingoring multiple sampling heights.\n",
      "\u001b[32m2024-07-30 10:25:03.688 UTC\u001b[0m | \u001b[32m0:02:51.121317\u001b[0m | \u001b[1mINFO    \u001b[0m | \u001b[36m/project/cp_notebooks/icosPrep/icosPrep/dataHunting/dataHunter.py\u001b[0m:\u001b[36m1685)\u001b[0m | Thereof 53 are presently selected.\n",
      "\u001b[32m2024-07-30 10:25:03.705 UTC\u001b[0m | \u001b[32m0:02:51.138374\u001b[0m | \u001b[1mINFO    \u001b[0m | \u001b[36m/project/cp_notebooks/icosPrep/icosPrep/dataHunting/dataHunter.py\u001b[0m:\u001b[36m1730)\u001b[0m | No observation stations were rejected\n",
      "\u001b[32m2024-07-30 10:25:03.706 UTC\u001b[0m | \u001b[32m0:02:51.139202\u001b[0m | \u001b[1mINFO    \u001b[0m | \u001b[36m/project/cp_notebooks/icosPrep/icosPrep/dataHunting/dataHunter.py\u001b[0m:\u001b[36m1739)\u001b[0m | No countries were rejected\n",
      "\u001b[32m2024-07-30 10:25:03.723 UTC\u001b[0m | \u001b[32m0:02:51.156876\u001b[0m | \u001b[1mINFO    \u001b[0m | \u001b[36m/project/cp_notebooks/icosPrep/icosPrep/dataHunting/dataHunter.py\u001b[0m:\u001b[36m233)\u001b[0m | Closing the GUI...\n",
      "\u001b[32m2024-07-30 10:25:03.727 UTC\u001b[0m | \u001b[32m0:02:51.160831\u001b[0m | \u001b[1mINFO    \u001b[0m | \u001b[36m/project/cp_notebooks/icosPrep/icosPrep/dataHunting/dataHunter.py\u001b[0m:\u001b[36m242)\u001b[0m | LumiaGUI completed successfully. The updated Lumia config file has been written to: ./output/icosPrep-2024-07-30T10_23/icosPrep-2024-07-30T10_23-config.yml and lumia-config-v6.3-tr-co2-JL.yml\n"
     ]
    },
    {
     "name": "stderr",
     "output_type": "stream",
     "text": [
      "/project/cp_notebooks/icosPrep/icosPrep/dataHunting/dataHunter.py:1701: SettingWithCopyWarning: \n",
      "A value is trying to be set on a copy of a slice from a DataFrame.\n",
      "Try using .loc[row_indexer,col_indexer] = value instead\n",
      "\n",
      "See the caveats in the documentation: https://pandas.pydata.org/pandas-docs/stable/user_guide/indexing.html#returning-a-view-versus-a-copy\n",
      "  dfq['pid2'] = dfq['pid'].apply(bs.grabFirstEntryFromList)\n",
      "/project/cp_notebooks/icosPrep/icosPrep/dataHunting/dataHunter.py:1702: SettingWithCopyWarning: \n",
      "A value is trying to be set on a copy of a slice from a DataFrame.\n",
      "Try using .loc[row_indexer,col_indexer] = value instead\n",
      "\n",
      "See the caveats in the documentation: https://pandas.pydata.org/pandas-docs/stable/user_guide/indexing.html#returning-a-view-versus-a-copy\n",
      "  dfq['samplingHeight2'] = dfq['samplingHeight'].apply(bs.grabFirstEntryFromList)\n",
      "/project/cp_notebooks/icosPrep/icosPrep/dataHunting/dataHunter.py:1704: SettingWithCopyWarning: \n",
      "A value is trying to be set on a copy of a slice from a DataFrame\n",
      "\n",
      "See the caveats in the documentation: https://pandas.pydata.org/pandas-docs/stable/user_guide/indexing.html#returning-a-view-versus-a-copy\n",
      "  dfq.drop(columns='pid',inplace=True) # drop columns with lists. These are replaced with single values from the first list entry\n",
      "/project/cp_notebooks/icosPrep/icosPrep/dataHunting/dataHunter.py:1706: SettingWithCopyWarning: \n",
      "A value is trying to be set on a copy of a slice from a DataFrame\n",
      "\n",
      "See the caveats in the documentation: https://pandas.pydata.org/pandas-docs/stable/user_guide/indexing.html#returning-a-view-versus-a-copy\n",
      "  dfq.drop(columns='selected',inplace=True)\n",
      "/project/cp_notebooks/icosPrep/icosPrep/dataHunting/dataHunter.py:1707: SettingWithCopyWarning: \n",
      "A value is trying to be set on a copy of a slice from a DataFrame\n",
      "\n",
      "See the caveats in the documentation: https://pandas.pydata.org/pandas-docs/stable/user_guide/indexing.html#returning-a-view-versus-a-copy\n",
      "  dfq.drop(columns='altOk',inplace=True)\n",
      "/project/cp_notebooks/icosPrep/icosPrep/dataHunting/dataHunter.py:1708: SettingWithCopyWarning: \n",
      "A value is trying to be set on a copy of a slice from a DataFrame\n",
      "\n",
      "See the caveats in the documentation: https://pandas.pydata.org/pandas-docs/stable/user_guide/indexing.html#returning-a-view-versus-a-copy\n",
      "  dfq.drop(columns='HghtOk',inplace=True)\n",
      "/project/cp_notebooks/icosPrep/icosPrep/dataHunting/dataHunter.py:1709: SettingWithCopyWarning: \n",
      "A value is trying to be set on a copy of a slice from a DataFrame\n",
      "\n",
      "See the caveats in the documentation: https://pandas.pydata.org/pandas-docs/stable/user_guide/indexing.html#returning-a-view-versus-a-copy\n",
      "  dfq.drop(columns='includeCountry',inplace=True)\n",
      "/project/cp_notebooks/icosPrep/icosPrep/dataHunting/dataHunter.py:1710: SettingWithCopyWarning: \n",
      "A value is trying to be set on a copy of a slice from a DataFrame\n",
      "\n",
      "See the caveats in the documentation: https://pandas.pydata.org/pandas-docs/stable/user_guide/indexing.html#returning-a-view-versus-a-copy\n",
      "  dfq.drop(columns='includeStation',inplace=True)\n",
      "/project/cp_notebooks/icosPrep/icosPrep/dataHunting/dataHunter.py:1711: SettingWithCopyWarning: \n",
      "A value is trying to be set on a copy of a slice from a DataFrame\n",
      "\n",
      "See the caveats in the documentation: https://pandas.pydata.org/pandas-docs/stable/user_guide/indexing.html#returning-a-view-versus-a-copy\n",
      "  dfq.rename(columns={'pid2': 'pid', 'samplingHeight2': 'samplingHeight'},inplace=True)\n"
     ]
    }
   ],
   "source": [
    "if \"dataHunter\" not in dir():\n",
    "    %run ./dataHunter\n",
    "else:\n",
    "    reload(dataHunter)"
   ]
  },
  {
   "cell_type": "code",
   "execution_count": null,
   "metadata": {},
   "outputs": [],
   "source": []
  },
  {
   "cell_type": "code",
   "execution_count": null,
   "metadata": {},
   "outputs": [],
   "source": []
  }
 ],
 "metadata": {
  "kernelspec": {
   "display_name": "Python 3 (ipykernel)",
   "language": "python",
   "name": "python3"
  },
  "language_info": {
   "codemirror_mode": {
    "name": "ipython",
    "version": 3
   },
   "file_extension": ".py",
   "mimetype": "text/x-python",
   "name": "python",
   "nbconvert_exporter": "python",
   "pygments_lexer": "ipython3",
   "version": "3.10.6"
  },
  "toc-autonumbering": true,
  "toc-showcode": true,
  "toc-showmarkdowntxt": true
 },
 "nbformat": 4,
 "nbformat_minor": 4
}
